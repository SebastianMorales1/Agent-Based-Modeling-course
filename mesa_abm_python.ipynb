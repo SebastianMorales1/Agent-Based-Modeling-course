{
  "nbformat": 4,
  "nbformat_minor": 0,
  "metadata": {
    "colab": {
      "provenance": [],
      "authorship_tag": "ABX9TyP5Fw+MC5Ro5LcRVS1WpAWc",
      "include_colab_link": true
    },
    "kernelspec": {
      "name": "python3",
      "display_name": "Python 3"
    },
    "language_info": {
      "name": "python"
    }
  },
  "cells": [
    {
      "cell_type": "markdown",
      "metadata": {
        "id": "view-in-github",
        "colab_type": "text"
      },
      "source": [
        "<a href=\"https://colab.research.google.com/github/SebastianMorales1/Agent-Based-Modeling-course/blob/main/mesa_abm_python.ipynb\" target=\"_parent\"><img src=\"https://colab.research.google.com/assets/colab-badge.svg\" alt=\"Open In Colab\"/></a>"
      ]
    },
    {
      "cell_type": "markdown",
      "source": [
        "Import Dependencies"
      ],
      "metadata": {
        "id": "5rA60gW2gqly"
      }
    },
    {
      "cell_type": "code",
      "execution_count": null,
      "metadata": {
        "id": "o326kugjeRdU"
      },
      "outputs": [],
      "source": [
        "!pip install mesa\n",
        "import mesa\n",
        "# The library \"mesa\" is installed and imported."
      ]
    },
    {
      "cell_type": "markdown",
      "source": [
        "Resource Classes"
      ],
      "metadata": {
        "id": "zUMjBNtMguKV"
      }
    },
    {
      "cell_type": "code",
      "source": [
        "  #I do not understand the whole code, I am lost.\n",
        "\n",
        "class Sugar(mesa.Agent):\n",
        "  \"\"\"\n",
        "  Sugar\n",
        "  - contains an amount of sugar\n",
        "  - grows one amount of sugar at each turn\n",
        "  \"\"\"\n",
        "  def __init__(self):\n",
        "    print(\"I am sugar\")\n",
        "\n",
        "class Spice(mesa.Agent):\n",
        "  \"\"\"\n",
        "  Spice\n",
        "  - contains an amount of spice\n",
        "  - grows one amount of spice at each turn\n",
        "  \"\"\"\n",
        "  def __init__(self):\n",
        "    print(\"I am spice\")"
      ],
      "metadata": {
        "id": "PiLF8lNYhQiD"
      },
      "execution_count": 4,
      "outputs": []
    },
    {
      "cell_type": "markdown",
      "source": [
        "Trader Class"
      ],
      "metadata": {
        "id": "qO8hx7D8iTiz"
      }
    },
    {
      "cell_type": "code",
      "source": [
        "class Trader(mesa.Agent):\n",
        "  \"\"\"\n",
        "  Trader:\n",
        "  - has a metabolism of sugar and spice\n",
        "  - harvest and trade sugar and spice to survive\n",
        "  \"\"\"\n",
        "\n",
        "  def __init__(self):\n",
        "    print(\"I am Trader\")"
      ],
      "metadata": {
        "id": "29JkmVeziWjI"
      },
      "execution_count": 5,
      "outputs": []
    },
    {
      "cell_type": "markdown",
      "source": [
        "Model class"
      ],
      "metadata": {
        "id": "TYp03yAXi94b"
      }
    },
    {
      "cell_type": "code",
      "source": [
        "class SugarscapeG1mt(mesa.Model):\n",
        "  \"\"\"\n",
        "  Manager class to run Sugarscape with Traders\n",
        "  \"\"\"\n",
        "\n",
        "\n",
        "  def __init__(self, width=50,height=50):\n",
        "    self.spice = Spice()\n",
        "    self.sugar = Sugar()\n",
        "    self.trader = Trader()"
      ],
      "metadata": {
        "id": "pbCFrzQvi_sL"
      },
      "execution_count": 6,
      "outputs": []
    },
    {
      "cell_type": "markdown",
      "source": [
        "Run Sugarscape"
      ],
      "metadata": {
        "id": "35RqPvTlkRYZ"
      }
    },
    {
      "cell_type": "code",
      "source": [
        "model = SugarscapeG1mt()\n",
        "#No entendí nada."
      ],
      "metadata": {
        "colab": {
          "base_uri": "https://localhost:8080/"
        },
        "id": "fZJCLbdWj8uo",
        "outputId": "73fbd782-0c98-4794-d7b1-cd6b96ed4e90"
      },
      "execution_count": 7,
      "outputs": [
        {
          "output_type": "stream",
          "name": "stdout",
          "text": [
            "I am spice\n",
            "I am sugar\n",
            "I am Trader\n"
          ]
        }
      ]
    }
  ]
}